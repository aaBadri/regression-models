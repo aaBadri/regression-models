{
 "cells": [
  {
   "cell_type": "code",
   "execution_count": 12,
   "metadata": {
    "scrolled": false
   },
   "outputs": [
    {
     "data": {
      "image/png": "[encoded data removed]",
      "text/plain": [
       "<Figure size 432x288 with 1 Axes>"
      ]
     },
     "metadata": {
      "needs_background": "light"
     },
     "output_type": "display_data"
    }
   ],
   "source": [
    "import matplotlib.pyplot as plt\n",
    "import pandas as pd\n",
    "import sklearn as sklearn\n",
    "# from sklearn import train_test_split\n",
    "# reading csv file  \n",
    "df = pd.read_csv(\"data/ml-hw1.csv\",)\n",
    "df.plot(x='x',y='y',kind = 'scatter')\n",
    "plt.show()"
   ]
  },
  {
   "cell_type": "code",
   "execution_count": 26,
   "metadata": {},
   "outputs": [
    {
     "ename": "AttributeError",
     "evalue": "module 'sklearn' has no attribute 'model_selection'",
     "output_type": "error",
     "traceback": [
      "\u001b[0;31m---------------------------------------------------------------------------\u001b[0m",
      "\u001b[0;31mAttributeError\u001b[0m                            Traceback (most recent call last)",
      "\u001b[0;32m<ipython-input-26-841408c5cb74>\u001b[0m in \u001b[0;36m<module>\u001b[0;34m\u001b[0m\n\u001b[1;32m     14\u001b[0m     \u001b[0mplt\u001b[0m\u001b[0;34m.\u001b[0m\u001b[0mshow\u001b[0m\u001b[0;34m(\u001b[0m\u001b[0;34m)\u001b[0m\u001b[0;34m\u001b[0m\u001b[0;34m\u001b[0m\u001b[0m\n\u001b[1;32m     15\u001b[0m     \u001b[0;32mreturn\u001b[0m\u001b[0;34m\u001b[0m\u001b[0;34m\u001b[0m\u001b[0m\n\u001b[0;32m---> 16\u001b[0;31m \u001b[0mregression\u001b[0m\u001b[0;34m(\u001b[0m\u001b[0mdata_frame\u001b[0m\u001b[0;34m=\u001b[0m\u001b[0mdf\u001b[0m\u001b[0;34m,\u001b[0m\u001b[0mdegree\u001b[0m\u001b[0;34m=\u001b[0m\u001b[0;36m6\u001b[0m\u001b[0;34m,\u001b[0m\u001b[0mlearning_rate\u001b[0m\u001b[0;34m=\u001b[0m\u001b[0;36m0.01\u001b[0m\u001b[0;34m,\u001b[0m\u001b[0msteps\u001b[0m\u001b[0;34m=\u001b[0m\u001b[0;36m100\u001b[0m\u001b[0;34m,\u001b[0m\u001b[0mregularization_parameter\u001b[0m\u001b[0;34m=\u001b[0m\u001b[0;36m2\u001b[0m\u001b[0;34m)\u001b[0m\u001b[0;34m\u001b[0m\u001b[0;34m\u001b[0m\u001b[0m\n\u001b[0m",
      "\u001b[0;32m<ipython-input-26-841408c5cb74>\u001b[0m in \u001b[0;36mregression\u001b[0;34m(data_frame, learning_rate, steps, regularization_parameter, degree)\u001b[0m\n\u001b[1;32m      2\u001b[0m     \u001b[0mdata_x\u001b[0m \u001b[0;34m=\u001b[0m \u001b[0mdf\u001b[0m\u001b[0;34m.\u001b[0m\u001b[0miloc\u001b[0m\u001b[0;34m[\u001b[0m\u001b[0;34m:\u001b[0m\u001b[0;34m,\u001b[0m \u001b[0;36m0\u001b[0m\u001b[0;34m:\u001b[0m\u001b[0;36m1\u001b[0m\u001b[0;34m]\u001b[0m\u001b[0;34m.\u001b[0m\u001b[0mvalues\u001b[0m\u001b[0;34m\u001b[0m\u001b[0;34m\u001b[0m\u001b[0m\n\u001b[1;32m      3\u001b[0m     \u001b[0mdata_y\u001b[0m \u001b[0;34m=\u001b[0m \u001b[0mdf\u001b[0m\u001b[0;34m.\u001b[0m\u001b[0miloc\u001b[0m\u001b[0;34m[\u001b[0m\u001b[0;34m:\u001b[0m\u001b[0;34m,\u001b[0m \u001b[0;36m1\u001b[0m\u001b[0;34m]\u001b[0m\u001b[0;34m.\u001b[0m\u001b[0mvalues\u001b[0m\u001b[0;34m\u001b[0m\u001b[0;34m\u001b[0m\u001b[0m\n\u001b[0;32m----> 4\u001b[0;31m     \u001b[0mX_train\u001b[0m\u001b[0;34m,\u001b[0m \u001b[0mX_test\u001b[0m\u001b[0;34m,\u001b[0m \u001b[0my_train\u001b[0m\u001b[0;34m,\u001b[0m \u001b[0my_test\u001b[0m \u001b[0;34m=\u001b[0m \u001b[0msklearn\u001b[0m\u001b[0;34m.\u001b[0m\u001b[0mmodel_selection\u001b[0m\u001b[0;34m.\u001b[0m\u001b[0mtrain_test_split\u001b[0m\u001b[0;34m(\u001b[0m\u001b[0mdata_x\u001b[0m\u001b[0;34m,\u001b[0m \u001b[0mdata_y\u001b[0m\u001b[0;34m,\u001b[0m \u001b[0mtest_size\u001b[0m\u001b[0;34m=\u001b[0m\u001b[0;36m0.2\u001b[0m\u001b[0;34m,\u001b[0m \u001b[0mrandom_state\u001b[0m\u001b[0;34m=\u001b[0m\u001b[0;36m0\u001b[0m\u001b[0;34m)\u001b[0m\u001b[0;34m\u001b[0m\u001b[0;34m\u001b[0m\u001b[0m\n\u001b[0m\u001b[1;32m      5\u001b[0m     \u001b[0mpoly_reg\u001b[0m \u001b[0;34m=\u001b[0m \u001b[0msklearn\u001b[0m\u001b[0;34m.\u001b[0m\u001b[0mpreprocessing\u001b[0m\u001b[0;34m.\u001b[0m\u001b[0mPolynomialFeatures\u001b[0m\u001b[0;34m(\u001b[0m\u001b[0mdegree\u001b[0m\u001b[0;34m=\u001b[0m\u001b[0mdegree\u001b[0m\u001b[0;34m)\u001b[0m\u001b[0;34m\u001b[0m\u001b[0;34m\u001b[0m\u001b[0m\n\u001b[1;32m      6\u001b[0m     \u001b[0mX_poly\u001b[0m \u001b[0;34m=\u001b[0m \u001b[0mpoly_reg\u001b[0m\u001b[0;34m.\u001b[0m\u001b[0mfit_transform\u001b[0m\u001b[0;34m(\u001b[0m\u001b[0mdata_x\u001b[0m\u001b[0;34m)\u001b[0m\u001b[0;34m\u001b[0m\u001b[0;34m\u001b[0m\u001b[0m\n",
      "\u001b[0;31mAttributeError\u001b[0m: module 'sklearn' has no attribute 'model_selection'"
     ]
    }
   ],
   "source": [
    "def regression(data_frame,learning_rate,steps,regularization_parameter,degree=6):\n",
    "    data_x = df.iloc[:, 0:1].values\n",
    "    data_y = df.iloc[:, 1].values\n",
    "    x_train, x_test, y_train, y_test = sklearn.model_selection.train_test_split(data_x, data_y, test_size=0.2, random_state=0)\n",
    "    \n",
    "    #-------------------\n",
    "    poly_reg = sklearn.preprocessing.PolynomialFeatures(degree=degree)\n",
    "    X_poly = poly_reg.fit_transform(data_x)\n",
    "    pol_reg = sklearn.linear_model.LinearRegression()\n",
    "    pol_reg.fit(X_poly, data_y)\n",
    "    plt.scatter(data_x, data_y, color='red')\n",
    "    plt.plot(data_x, pol_reg.predict(poly_reg.fit_transform(data_x)), color='blue')\n",
    "    plt.title('Data and Prediction')\n",
    "    plt.xlabel('X')\n",
    "    plt.ylabel('Y')\n",
    "    plt.show()\n",
    "    return\n",
    "regression(data_frame=df,degree=6,learning_rate=0.01,steps=100,regularization_parameter=2)"
   ]
  },
  {
   "cell_type": "code",
   "execution_count": null,
   "metadata": {},
   "outputs": [],
   "source": [
    "def gradiant_descent(learning_rate,theta):\n",
    "    while converge:\n",
    "        for t in theta:\n",
    "            t = t - learning_rate. deriv(J(theta))\n",
    "    "
   ]
  },
  {
   "cell_type": "code",
   "execution_count": null,
   "metadata": {},
   "outputs": [],
   "source": [
    "import numpy as np\n",
    "\n",
    "X = 2 * np.random.rand(100, 1)\n",
    "y = 4 + 3 * X + np.random.randn(100, 1)\n",
    "\n",
    "def normal_equation(data_frame):\n",
    "    X_b = np.c_[np.ones((100, 1)), X]  # add x0 = 1 to each instance\n",
    "    theta_best = np.linalg.inv(X_b.T.dot(X_b)).dot(X_b.T).dot(y)\n",
    "    y_predict = X_new_b.dot(theta_best)"
   ]
  },
  {
   "cell_type": "code",
   "execution_count": null,
   "metadata": {},
   "outputs": [],
   "source": [
    "import numpy as np\n",
    "from scipy import linalg\n",
    "from collections import OrderedDict\n",
    "import matplotlib.pyplot as plt\n",
    "from matplotlib import style\n",
    "style.use('ggplot')\n",
    "\n",
    "\n",
    "x,y \n",
    "costs = []\n",
    "\n",
    "def standardize(data):\n",
    "\n",
    "    return (data - np.mean(data))/(np.max(data) - np.min(data))\n",
    "\n",
    "def hypothesis(theta, x):\n",
    "\n",
    "    h = theta[0]\n",
    "    for i in np.arange(1, len(theta)):\n",
    "        h += theta[i]*x ** i        \n",
    "    return h        \n",
    "\n",
    "def computeCost(x, y, theta,reg_lambda):\n",
    "\n",
    "    errors = hypothesis(theta, x)-y\n",
    "    reg = np.sum(theta**2)\n",
    "    \n",
    "    return (1/(2*len(y)))*np.sum(errors**2)  + reg_lambda*reg\n",
    "\n",
    "def fit(method = 'normal_equation', order = 1, tol = 10**-3, numIters = 20, learningRate = 0.01,reg_lambda):\n",
    "    theta = []\n",
    "    if method == 'normal_equation': \n",
    "        d = {}\n",
    "        d['x' + str(0)] = np.ones([1,len(x_pts)])[0]    \n",
    "        for i in np.arange(1, order+1):                \n",
    "            d['x' + str(i)] = x ** (i)        \n",
    "\n",
    "        d = OrderedDict(sorted(d.items(), key=lambda t: t[0]))\n",
    "        X = np.column_stack(d.values())  \n",
    "\n",
    "        theta = np.matmul(np.matmul(linalg.pinv(np.matmul(np.transpose(X),X)), np.transpose(X)), y)\n",
    "\n",
    "    elif method == 'gradient_descent':\n",
    "\n",
    "        d = {}\n",
    "        d['x' + str(0)] = np.ones([1,len(x_pts)])[0]    \n",
    "        for i in np.arange(1, order+1):                \n",
    "            d['x' + str(i)] = standardize(x ** (i))      \n",
    "\n",
    "        d = OrderedDict(sorted(d.items(), key=lambda t: t[0]))\n",
    "        X = np.column_stack(d.values())  \n",
    "\n",
    "        m = len(x)\n",
    "        theta = np.zeros(order + 1)           \n",
    "        \n",
    "        for i in range(numIters):\n",
    "\n",
    "            h = hypothesis(theta, x)       \n",
    "            errors = h-y\n",
    "            theta += -learningRate * (1/m)*np.dot(errors, X)\n",
    "            cost = computeCost(x, y, theta,reg_lambda)\n",
    "            costs.append(cost)         \n",
    "            if cost < tol:\n",
    "                break      \n",
    "\n",
    "    return theta\n",
    "\n",
    "        "
   ]
  }
 ],
 "metadata": {
  "kernelspec": {
   "display_name": "Python 3",
   "language": "python",
   "name": "python3"
  },
  "language_info": {
   "codemirror_mode": {
    "name": "ipython",
    "version": 3
   },
   "file_extension": ".py",
   "mimetype": "text/x-python",
   "name": "python",
   "nbconvert_exporter": "python",
   "pygments_lexer": "ipython3",
   "version": "3.7.4"
  }
 },
 "nbformat": 4,
 "nbformat_minor": 2
}
